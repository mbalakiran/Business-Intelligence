{
 "cells": [
  {
   "cell_type": "code",
   "execution_count": 1,
   "metadata": {},
   "outputs": [],
   "source": [
    "import numpy as np \n",
    "import pandas as pd\n",
    "import matplotlib.pyplot as plt\n",
    "import seaborn as sns\n",
    "import nltk\n",
    "from nltk.stem import PorterStemmer\n",
    "from nltk.stem import WordNetLemmatizer\n",
    "from nltk.corpus import stopwords\n",
    "from nltk.corpus import RegexpTokenizer as regextoken\n",
    "from nltk import FreqDist, bigrams, trigrams"
   ]
  },
  {
   "cell_type": "code",
   "execution_count": 3,
   "metadata": {},
   "outputs": [
    {
     "name": "stderr",
     "output_type": "stream",
     "text": [
      "[nltk_data] Downloading package stopwords to\n",
      "[nltk_data]     C:\\Users\\h19baman\\AppData\\Roaming\\nltk_data...\n",
      "[nltk_data]   Package stopwords is already up-to-date!\n",
      "[nltk_data] Downloading package punkt to\n",
      "[nltk_data]     C:\\Users\\h19baman\\AppData\\Roaming\\nltk_data...\n",
      "[nltk_data]   Package punkt is already up-to-date!\n",
      "[nltk_data] Downloading package wordnet to\n",
      "[nltk_data]     C:\\Users\\h19baman\\AppData\\Roaming\\nltk_data...\n",
      "[nltk_data]   Package wordnet is already up-to-date!\n",
      "[nltk_data] Downloading package vader_lexicon to\n",
      "[nltk_data]     C:\\Users\\h19baman\\AppData\\Roaming\\nltk_data...\n",
      "[nltk_data]   Package vader_lexicon is already up-to-date!\n"
     ]
    }
   ],
   "source": [
    "import nltk\n",
    "nltk.download('stopwords');\n",
    "nltk.download('punkt')\n",
    "from nltk import word_tokenize\n",
    "from nltk import punkt\n",
    "stop_words = set(stopwords.words(\"english\"))\n",
    "nltk.download('wordnet')\n",
    "wnl = WordNetLemmatizer()\n",
    "nltk.download('vader_lexicon')\n",
    "from nltk.sentiment.vader import SentimentIntensityAnalyzer\n",
    "sia = SentimentIntensityAnalyzer()"
   ]
  },
  {
   "cell_type": "code",
   "execution_count": 4,
   "metadata": {},
   "outputs": [],
   "source": [
    "rating = pd.read_csv(\"Ratings.csv\")"
   ]
  },
  {
   "cell_type": "code",
   "execution_count": 5,
   "metadata": {},
   "outputs": [],
   "source": [
    "rating.dropna(axis=0,inplace=True)"
   ]
  },
  {
   "cell_type": "code",
   "execution_count": 6,
   "metadata": {},
   "outputs": [
    {
     "data": {
      "text/plain": [
       "['name', 'rating', 'review', 'votes', 'restaurant_type', 'location']"
      ]
     },
     "execution_count": 6,
     "metadata": {},
     "output_type": "execute_result"
    }
   ],
   "source": [
    "list(rating)"
   ]
  },
  {
   "cell_type": "code",
   "execution_count": 7,
   "metadata": {},
   "outputs": [],
   "source": [
    "rating['review']= rating['review'].str.replace('[^a-zA-Z#]+',' ')"
   ]
  },
  {
   "cell_type": "code",
   "execution_count": 8,
   "metadata": {},
   "outputs": [],
   "source": [
    "rating['review'] = rating['review'].str.lower()"
   ]
  },
  {
   "cell_type": "code",
   "execution_count": 9,
   "metadata": {},
   "outputs": [],
   "source": [
    "rating['review'] = rating['review'].apply(\n",
    "    lambda x: ' '.join([w for w in x.split() if len(w)>3]))"
   ]
  },
  {
   "cell_type": "code",
   "execution_count": 10,
   "metadata": {},
   "outputs": [],
   "source": [
    "rating['review']=rating.review.apply(lambda row: word_tokenize(row))"
   ]
  },
  {
   "cell_type": "code",
   "execution_count": 11,
   "metadata": {},
   "outputs": [
    {
     "data": {
      "text/plain": [
       "0          [beautiful, place, dine, inthe, interiors, tak...\n",
       "1          [here, dinner, with, family, weekday, restaura...\n",
       "2          [restaurant, near, banashankari, along, with, ...\n",
       "3          [went, here, weekend, buffet, while, took, car...\n",
       "4          [best, thing, about, place, ambiance, second, ...\n",
       "                                 ...                        \n",
       "1077010    [service, ordered, stella, artois, they, gave,...\n",
       "1077011    [nice, inside, sheraton, hosts, friendly, help...\n",
       "1077012    [review, based, food, drink, service, food, fo...\n",
       "1077013    [visited, chime, sheraton, hotel, nice, experi...\n",
       "1077014    [this, restaurant, situated, inside, grand, sh...\n",
       "Name: review, Length: 1074521, dtype: object"
      ]
     },
     "execution_count": 11,
     "metadata": {},
     "output_type": "execute_result"
    }
   ],
   "source": [
    "rating['review']"
   ]
  },
  {
   "cell_type": "code",
   "execution_count": 12,
   "metadata": {},
   "outputs": [],
   "source": [
    "rating['review'] = rating['review'].apply(lambda x: [item for item in x if item not in stop_words])"
   ]
  },
  {
   "cell_type": "code",
   "execution_count": 13,
   "metadata": {},
   "outputs": [
    {
     "data": {
      "text/plain": [
       "300    [pizza, shake, salad, nice, location, barrys, ...\n",
       "301    [stopped, place, board, door, saying, free, of...\n",
       "302    [worst, restaurant, ever, manchurian, worth, d...\n",
       "303    [sorry, people, lack, hygiene, upload, photo, ...\n",
       "304    [worst, ever, chicken, biriyani, ordered, plai...\n",
       "                             ...                        \n",
       "395                                [food, spicy, edible]\n",
       "396                            [hair, food, unsatisfied]\n",
       "397                                                   []\n",
       "398    [food, sucks, specially, biryani, yukkk, worst...\n",
       "399                              [good, excelent, rider]\n",
       "Name: review, Length: 100, dtype: object"
      ]
     },
     "execution_count": 13,
     "metadata": {},
     "output_type": "execute_result"
    }
   ],
   "source": [
    "rating['review'][300:400]"
   ]
  },
  {
   "cell_type": "code",
   "execution_count": 14,
   "metadata": {},
   "outputs": [],
   "source": [
    "rating['review'] = rating['review'].apply(lambda x: [wnl.lemmatize(i) for i in x ])"
   ]
  },
  {
   "cell_type": "code",
   "execution_count": 15,
   "metadata": {},
   "outputs": [],
   "source": [
    "def removeNull(wrdList):\n",
    "\n",
    "     for wrd in wrdList :\n",
    "         if wrd == '':\n",
    "             wrdList.remove(wrd)\n",
    "     return wrdList\n",
    "            \n",
    "rating['review'] = rating['review'].apply(lambda x: removeNull(x))"
   ]
  },
  {
   "cell_type": "code",
   "execution_count": 16,
   "metadata": {},
   "outputs": [],
   "source": [
    "def checkEmpty(stringVal):\n",
    "    if not stringVal:\n",
    "        return True\n",
    "    else :\n",
    "        return False\n",
    "    \n",
    "rating['review_b'] = rating['review'].apply(lambda x: checkEmpty(x))"
   ]
  },
  {
   "cell_type": "code",
   "execution_count": 17,
   "metadata": {},
   "outputs": [
    {
     "data": {
      "text/plain": [
       "300    [pizza, shake, salad, nice, location, barrys, ...\n",
       "301    [stopped, place, board, door, saying, free, of...\n",
       "302    [worst, restaurant, ever, manchurian, worth, d...\n",
       "303    [sorry, people, lack, hygiene, upload, photo, ...\n",
       "304    [worst, ever, chicken, biriyani, ordered, plai...\n",
       "                             ...                        \n",
       "395                                [food, spicy, edible]\n",
       "396                            [hair, food, unsatisfied]\n",
       "397                                                   []\n",
       "398    [food, suck, specially, biryani, yukkk, worst,...\n",
       "399                              [good, excelent, rider]\n",
       "Name: review, Length: 100, dtype: object"
      ]
     },
     "execution_count": 17,
     "metadata": {},
     "output_type": "execute_result"
    }
   ],
   "source": [
    "rating['review'][300:400]"
   ]
  },
  {
   "cell_type": "code",
   "execution_count": 18,
   "metadata": {},
   "outputs": [],
   "source": [
    "rating1=rating[rating['review_b']==False]"
   ]
  },
  {
   "cell_type": "code",
   "execution_count": 19,
   "metadata": {},
   "outputs": [
    {
     "data": {
      "text/html": [
       "<div>\n",
       "<style scoped>\n",
       "    .dataframe tbody tr th:only-of-type {\n",
       "        vertical-align: middle;\n",
       "    }\n",
       "\n",
       "    .dataframe tbody tr th {\n",
       "        vertical-align: top;\n",
       "    }\n",
       "\n",
       "    .dataframe thead th {\n",
       "        text-align: right;\n",
       "    }\n",
       "</style>\n",
       "<table border=\"1\" class=\"dataframe\">\n",
       "  <thead>\n",
       "    <tr style=\"text-align: right;\">\n",
       "      <th></th>\n",
       "      <th>name</th>\n",
       "      <th>rating</th>\n",
       "      <th>review</th>\n",
       "      <th>votes</th>\n",
       "      <th>restaurant_type</th>\n",
       "      <th>location</th>\n",
       "      <th>review_b</th>\n",
       "    </tr>\n",
       "  </thead>\n",
       "  <tbody>\n",
       "    <tr>\n",
       "      <th>300</th>\n",
       "      <td>Redberrys</td>\n",
       "      <td>5.0</td>\n",
       "      <td>[pizza, shake, salad, nice, location, barrys, ...</td>\n",
       "      <td>219</td>\n",
       "      <td>Cafes</td>\n",
       "      <td>Basavanagudi</td>\n",
       "      <td>False</td>\n",
       "    </tr>\n",
       "    <tr>\n",
       "      <th>301</th>\n",
       "      <td>Redberrys</td>\n",
       "      <td>5.0</td>\n",
       "      <td>[stopped, place, board, door, saying, free, of...</td>\n",
       "      <td>219</td>\n",
       "      <td>Cafes</td>\n",
       "      <td>Basavanagudi</td>\n",
       "      <td>False</td>\n",
       "    </tr>\n",
       "    <tr>\n",
       "      <th>302</th>\n",
       "      <td>Foodiction</td>\n",
       "      <td>1.0</td>\n",
       "      <td>[worst, restaurant, ever, manchurian, worth, d...</td>\n",
       "      <td>506</td>\n",
       "      <td>Delivery</td>\n",
       "      <td>Banashankari</td>\n",
       "      <td>False</td>\n",
       "    </tr>\n",
       "    <tr>\n",
       "      <th>303</th>\n",
       "      <td>Foodiction</td>\n",
       "      <td>1.0</td>\n",
       "      <td>[sorry, people, lack, hygiene, upload, photo, ...</td>\n",
       "      <td>506</td>\n",
       "      <td>Delivery</td>\n",
       "      <td>Banashankari</td>\n",
       "      <td>False</td>\n",
       "    </tr>\n",
       "    <tr>\n",
       "      <th>304</th>\n",
       "      <td>Foodiction</td>\n",
       "      <td>1.0</td>\n",
       "      <td>[worst, ever, chicken, biriyani, ordered, plai...</td>\n",
       "      <td>506</td>\n",
       "      <td>Delivery</td>\n",
       "      <td>Banashankari</td>\n",
       "      <td>False</td>\n",
       "    </tr>\n",
       "    <tr>\n",
       "      <th>...</th>\n",
       "      <td>...</td>\n",
       "      <td>...</td>\n",
       "      <td>...</td>\n",
       "      <td>...</td>\n",
       "      <td>...</td>\n",
       "      <td>...</td>\n",
       "      <td>...</td>\n",
       "    </tr>\n",
       "    <tr>\n",
       "      <th>398</th>\n",
       "      <td>Foodiction</td>\n",
       "      <td>1.0</td>\n",
       "      <td>[food, suck, specially, biryani, yukkk, worst,...</td>\n",
       "      <td>506</td>\n",
       "      <td>Delivery</td>\n",
       "      <td>Banashankari</td>\n",
       "      <td>False</td>\n",
       "    </tr>\n",
       "    <tr>\n",
       "      <th>399</th>\n",
       "      <td>Foodiction</td>\n",
       "      <td>5.0</td>\n",
       "      <td>[good, excelent, rider]</td>\n",
       "      <td>506</td>\n",
       "      <td>Delivery</td>\n",
       "      <td>Banashankari</td>\n",
       "      <td>False</td>\n",
       "    </tr>\n",
       "    <tr>\n",
       "      <th>400</th>\n",
       "      <td>Foodiction</td>\n",
       "      <td>1.0</td>\n",
       "      <td>[food, spicy, edible]</td>\n",
       "      <td>506</td>\n",
       "      <td>Delivery</td>\n",
       "      <td>Banashankari</td>\n",
       "      <td>False</td>\n",
       "    </tr>\n",
       "    <tr>\n",
       "      <th>401</th>\n",
       "      <td>Foodiction</td>\n",
       "      <td>1.0</td>\n",
       "      <td>[hair, food, unsatisfied]</td>\n",
       "      <td>506</td>\n",
       "      <td>Delivery</td>\n",
       "      <td>Banashankari</td>\n",
       "      <td>False</td>\n",
       "    </tr>\n",
       "    <tr>\n",
       "      <th>403</th>\n",
       "      <td>Foodiction</td>\n",
       "      <td>1.0</td>\n",
       "      <td>[food, suck, specially, biryani, yukkk, worst,...</td>\n",
       "      <td>506</td>\n",
       "      <td>Delivery</td>\n",
       "      <td>Banashankari</td>\n",
       "      <td>False</td>\n",
       "    </tr>\n",
       "  </tbody>\n",
       "</table>\n",
       "<p>100 rows × 7 columns</p>\n",
       "</div>"
      ],
      "text/plain": [
       "           name  rating                                             review  \\\n",
       "300   Redberrys     5.0  [pizza, shake, salad, nice, location, barrys, ...   \n",
       "301   Redberrys     5.0  [stopped, place, board, door, saying, free, of...   \n",
       "302  Foodiction     1.0  [worst, restaurant, ever, manchurian, worth, d...   \n",
       "303  Foodiction     1.0  [sorry, people, lack, hygiene, upload, photo, ...   \n",
       "304  Foodiction     1.0  [worst, ever, chicken, biriyani, ordered, plai...   \n",
       "..          ...     ...                                                ...   \n",
       "398  Foodiction     1.0  [food, suck, specially, biryani, yukkk, worst,...   \n",
       "399  Foodiction     5.0                            [good, excelent, rider]   \n",
       "400  Foodiction     1.0                              [food, spicy, edible]   \n",
       "401  Foodiction     1.0                          [hair, food, unsatisfied]   \n",
       "403  Foodiction     1.0  [food, suck, specially, biryani, yukkk, worst,...   \n",
       "\n",
       "     votes restaurant_type      location  review_b  \n",
       "300    219           Cafes  Basavanagudi     False  \n",
       "301    219           Cafes  Basavanagudi     False  \n",
       "302    506        Delivery  Banashankari     False  \n",
       "303    506        Delivery  Banashankari     False  \n",
       "304    506        Delivery  Banashankari     False  \n",
       "..     ...             ...           ...       ...  \n",
       "398    506        Delivery  Banashankari     False  \n",
       "399    506        Delivery  Banashankari     False  \n",
       "400    506        Delivery  Banashankari     False  \n",
       "401    506        Delivery  Banashankari     False  \n",
       "403    506        Delivery  Banashankari     False  \n",
       "\n",
       "[100 rows x 7 columns]"
      ]
     },
     "execution_count": 19,
     "metadata": {},
     "output_type": "execute_result"
    }
   ],
   "source": [
    "rating1[rating1['review_b']==False][300:400]"
   ]
  },
  {
   "cell_type": "code",
   "execution_count": 20,
   "metadata": {},
   "outputs": [
    {
     "data": {
      "text/plain": [
       "300    [pizza, shake, salad, nice, location, barrys, ...\n",
       "301    [stopped, place, board, door, saying, free, of...\n",
       "302    [worst, restaurant, ever, manchurian, worth, d...\n",
       "303    [sorry, people, lack, hygiene, upload, photo, ...\n",
       "304    [worst, ever, chicken, biriyani, ordered, plai...\n",
       "                             ...                        \n",
       "398    [food, suck, specially, biryani, yukkk, worst,...\n",
       "399                              [good, excelent, rider]\n",
       "400                                [food, spicy, edible]\n",
       "401                            [hair, food, unsatisfied]\n",
       "403    [food, suck, specially, biryani, yukkk, worst,...\n",
       "Name: review, Length: 100, dtype: object"
      ]
     },
     "execution_count": 20,
     "metadata": {},
     "output_type": "execute_result"
    }
   ],
   "source": [
    "rating1['review'][300:400]"
   ]
  },
  {
   "cell_type": "code",
   "execution_count": 21,
   "metadata": {},
   "outputs": [],
   "source": [
    "stemming = PorterStemmer()"
   ]
  },
  {
   "cell_type": "code",
   "execution_count": 22,
   "metadata": {},
   "outputs": [
    {
     "name": "stderr",
     "output_type": "stream",
     "text": [
      "C:\\Users\\h19baman\\Anaconda3\\envs\\Bussiness intelligence\\lib\\site-packages\\ipykernel_launcher.py:1: SettingWithCopyWarning: \n",
      "A value is trying to be set on a copy of a slice from a DataFrame.\n",
      "Try using .loc[row_indexer,col_indexer] = value instead\n",
      "\n",
      "See the caveats in the documentation: https://pandas.pydata.org/pandas-docs/stable/user_guide/indexing.html#returning-a-view-versus-a-copy\n",
      "  \"\"\"Entry point for launching an IPython kernel.\n"
     ]
    }
   ],
   "source": [
    "rating1['review']=rating1['review'].apply(lambda x: ' '.join([word for word in x]))"
   ]
  },
  {
   "cell_type": "code",
   "execution_count": 23,
   "metadata": {},
   "outputs": [],
   "source": [
    "rating1.reset_index(drop=True,inplace=True)"
   ]
  },
  {
   "cell_type": "code",
   "execution_count": 24,
   "metadata": {},
   "outputs": [],
   "source": [
    "rating = rating1.drop([\"review_b\"],axis=1)"
   ]
  },
  {
   "cell_type": "code",
   "execution_count": 25,
   "metadata": {},
   "outputs": [
    {
     "data": {
      "text/html": [
       "<div>\n",
       "<style scoped>\n",
       "    .dataframe tbody tr th:only-of-type {\n",
       "        vertical-align: middle;\n",
       "    }\n",
       "\n",
       "    .dataframe tbody tr th {\n",
       "        vertical-align: top;\n",
       "    }\n",
       "\n",
       "    .dataframe thead th {\n",
       "        text-align: right;\n",
       "    }\n",
       "</style>\n",
       "<table border=\"1\" class=\"dataframe\">\n",
       "  <thead>\n",
       "    <tr style=\"text-align: right;\">\n",
       "      <th></th>\n",
       "      <th>name</th>\n",
       "      <th>rating</th>\n",
       "      <th>review</th>\n",
       "      <th>votes</th>\n",
       "      <th>restaurant_type</th>\n",
       "      <th>location</th>\n",
       "    </tr>\n",
       "  </thead>\n",
       "  <tbody>\n",
       "    <tr>\n",
       "      <th>0</th>\n",
       "      <td>Jalsa</td>\n",
       "      <td>4.0</td>\n",
       "      <td>beautiful place dine inthe interior take back ...</td>\n",
       "      <td>775</td>\n",
       "      <td>Buffet</td>\n",
       "      <td>Banashankari</td>\n",
       "    </tr>\n",
       "    <tr>\n",
       "      <th>1</th>\n",
       "      <td>Jalsa</td>\n",
       "      <td>4.0</td>\n",
       "      <td>dinner family weekday restaurant completely em...</td>\n",
       "      <td>775</td>\n",
       "      <td>Buffet</td>\n",
       "      <td>Banashankari</td>\n",
       "    </tr>\n",
       "    <tr>\n",
       "      <th>2</th>\n",
       "      <td>Jalsa</td>\n",
       "      <td>2.0</td>\n",
       "      <td>restaurant near banashankari along office frie...</td>\n",
       "      <td>775</td>\n",
       "      <td>Buffet</td>\n",
       "      <td>Banashankari</td>\n",
       "    </tr>\n",
       "    <tr>\n",
       "      <th>3</th>\n",
       "      <td>Jalsa</td>\n",
       "      <td>4.0</td>\n",
       "      <td>went weekend buffet took carte firstly ambienc...</td>\n",
       "      <td>775</td>\n",
       "      <td>Buffet</td>\n",
       "      <td>Banashankari</td>\n",
       "    </tr>\n",
       "    <tr>\n",
       "      <th>4</th>\n",
       "      <td>Jalsa</td>\n",
       "      <td>5.0</td>\n",
       "      <td>best thing place ambiance second best thing yu...</td>\n",
       "      <td>775</td>\n",
       "      <td>Buffet</td>\n",
       "      <td>Banashankari</td>\n",
       "    </tr>\n",
       "    <tr>\n",
       "      <th>...</th>\n",
       "      <td>...</td>\n",
       "      <td>...</td>\n",
       "      <td>...</td>\n",
       "      <td>...</td>\n",
       "      <td>...</td>\n",
       "      <td>...</td>\n",
       "    </tr>\n",
       "    <tr>\n",
       "      <th>1070679</th>\n",
       "      <td>Chime - Sheraton Grand Bengaluru Whitefield Ho...</td>\n",
       "      <td>1.0</td>\n",
       "      <td>service ordered stella artois gave expired bot...</td>\n",
       "      <td>236</td>\n",
       "      <td>Pubs and bars</td>\n",
       "      <td>ITPL Main Road, Whitefield</td>\n",
       "    </tr>\n",
       "    <tr>\n",
       "      <th>1070680</th>\n",
       "      <td>Chime - Sheraton Grand Bengaluru Whitefield Ho...</td>\n",
       "      <td>5.0</td>\n",
       "      <td>nice inside sheraton host friendly helpful ser...</td>\n",
       "      <td>236</td>\n",
       "      <td>Pubs and bars</td>\n",
       "      <td>ITPL Main Road, Whitefield</td>\n",
       "    </tr>\n",
       "    <tr>\n",
       "      <th>1070681</th>\n",
       "      <td>Chime - Sheraton Grand Bengaluru Whitefield Ho...</td>\n",
       "      <td>5.0</td>\n",
       "      <td>review based food drink service food food good...</td>\n",
       "      <td>236</td>\n",
       "      <td>Pubs and bars</td>\n",
       "      <td>ITPL Main Road, Whitefield</td>\n",
       "    </tr>\n",
       "    <tr>\n",
       "      <th>1070682</th>\n",
       "      <td>Chime - Sheraton Grand Bengaluru Whitefield Ho...</td>\n",
       "      <td>5.0</td>\n",
       "      <td>visited chime sheraton hotel nice experience m...</td>\n",
       "      <td>236</td>\n",
       "      <td>Pubs and bars</td>\n",
       "      <td>ITPL Main Road, Whitefield</td>\n",
       "    </tr>\n",
       "    <tr>\n",
       "      <th>1070683</th>\n",
       "      <td>Chime - Sheraton Grand Bengaluru Whitefield Ho...</td>\n",
       "      <td>4.0</td>\n",
       "      <td>restaurant situated inside grand sheraton hote...</td>\n",
       "      <td>236</td>\n",
       "      <td>Pubs and bars</td>\n",
       "      <td>ITPL Main Road, Whitefield</td>\n",
       "    </tr>\n",
       "  </tbody>\n",
       "</table>\n",
       "<p>1070684 rows × 6 columns</p>\n",
       "</div>"
      ],
      "text/plain": [
       "                                                      name  rating  \\\n",
       "0                                                    Jalsa     4.0   \n",
       "1                                                    Jalsa     4.0   \n",
       "2                                                    Jalsa     2.0   \n",
       "3                                                    Jalsa     4.0   \n",
       "4                                                    Jalsa     5.0   \n",
       "...                                                    ...     ...   \n",
       "1070679  Chime - Sheraton Grand Bengaluru Whitefield Ho...     1.0   \n",
       "1070680  Chime - Sheraton Grand Bengaluru Whitefield Ho...     5.0   \n",
       "1070681  Chime - Sheraton Grand Bengaluru Whitefield Ho...     5.0   \n",
       "1070682  Chime - Sheraton Grand Bengaluru Whitefield Ho...     5.0   \n",
       "1070683  Chime - Sheraton Grand Bengaluru Whitefield Ho...     4.0   \n",
       "\n",
       "                                                    review  votes  \\\n",
       "0        beautiful place dine inthe interior take back ...    775   \n",
       "1        dinner family weekday restaurant completely em...    775   \n",
       "2        restaurant near banashankari along office frie...    775   \n",
       "3        went weekend buffet took carte firstly ambienc...    775   \n",
       "4        best thing place ambiance second best thing yu...    775   \n",
       "...                                                    ...    ...   \n",
       "1070679  service ordered stella artois gave expired bot...    236   \n",
       "1070680  nice inside sheraton host friendly helpful ser...    236   \n",
       "1070681  review based food drink service food food good...    236   \n",
       "1070682  visited chime sheraton hotel nice experience m...    236   \n",
       "1070683  restaurant situated inside grand sheraton hote...    236   \n",
       "\n",
       "        restaurant_type                    location  \n",
       "0                Buffet                Banashankari  \n",
       "1                Buffet                Banashankari  \n",
       "2                Buffet                Banashankari  \n",
       "3                Buffet                Banashankari  \n",
       "4                Buffet                Banashankari  \n",
       "...                 ...                         ...  \n",
       "1070679   Pubs and bars  ITPL Main Road, Whitefield  \n",
       "1070680   Pubs and bars  ITPL Main Road, Whitefield  \n",
       "1070681   Pubs and bars  ITPL Main Road, Whitefield  \n",
       "1070682   Pubs and bars  ITPL Main Road, Whitefield  \n",
       "1070683   Pubs and bars  ITPL Main Road, Whitefield  \n",
       "\n",
       "[1070684 rows x 6 columns]"
      ]
     },
     "execution_count": 25,
     "metadata": {},
     "output_type": "execute_result"
    }
   ],
   "source": [
    "rating"
   ]
  },
  {
   "cell_type": "markdown",
   "metadata": {},
   "source": [
    "## Let's do the Sentiment Analysis"
   ]
  },
  {
   "cell_type": "code",
   "execution_count": null,
   "metadata": {},
   "outputs": [],
   "source": [
    "rating['Sentiment Scores'] = rating['review'].apply(lambda x:sia.polarity_scores(x)['compound'])"
   ]
  },
  {
   "cell_type": "code",
   "execution_count": 31,
   "metadata": {},
   "outputs": [
    {
     "data": {
      "text/html": [
       "<div>\n",
       "<style scoped>\n",
       "    .dataframe tbody tr th:only-of-type {\n",
       "        vertical-align: middle;\n",
       "    }\n",
       "\n",
       "    .dataframe tbody tr th {\n",
       "        vertical-align: top;\n",
       "    }\n",
       "\n",
       "    .dataframe thead th {\n",
       "        text-align: right;\n",
       "    }\n",
       "</style>\n",
       "<table border=\"1\" class=\"dataframe\">\n",
       "  <thead>\n",
       "    <tr style=\"text-align: right;\">\n",
       "      <th></th>\n",
       "      <th>name</th>\n",
       "      <th>rating</th>\n",
       "      <th>review</th>\n",
       "      <th>votes</th>\n",
       "      <th>restaurant_type</th>\n",
       "      <th>location</th>\n",
       "      <th>Sentiment Scores</th>\n",
       "    </tr>\n",
       "  </thead>\n",
       "  <tbody>\n",
       "    <tr>\n",
       "      <th>0</th>\n",
       "      <td>Jalsa</td>\n",
       "      <td>4.0</td>\n",
       "      <td>beautiful place dine inthe interior take back ...</td>\n",
       "      <td>775</td>\n",
       "      <td>Buffet</td>\n",
       "      <td>Banashankari</td>\n",
       "      <td>0.7351</td>\n",
       "    </tr>\n",
       "    <tr>\n",
       "      <th>1</th>\n",
       "      <td>Jalsa</td>\n",
       "      <td>4.0</td>\n",
       "      <td>dinner family weekday restaurant completely em...</td>\n",
       "      <td>775</td>\n",
       "      <td>Buffet</td>\n",
       "      <td>Banashankari</td>\n",
       "      <td>0.9701</td>\n",
       "    </tr>\n",
       "    <tr>\n",
       "      <th>2</th>\n",
       "      <td>Jalsa</td>\n",
       "      <td>2.0</td>\n",
       "      <td>restaurant near banashankari along office frie...</td>\n",
       "      <td>775</td>\n",
       "      <td>Buffet</td>\n",
       "      <td>Banashankari</td>\n",
       "      <td>0.5423</td>\n",
       "    </tr>\n",
       "    <tr>\n",
       "      <th>3</th>\n",
       "      <td>Jalsa</td>\n",
       "      <td>4.0</td>\n",
       "      <td>went weekend buffet took carte firstly ambienc...</td>\n",
       "      <td>775</td>\n",
       "      <td>Buffet</td>\n",
       "      <td>Banashankari</td>\n",
       "      <td>0.9686</td>\n",
       "    </tr>\n",
       "    <tr>\n",
       "      <th>4</th>\n",
       "      <td>Jalsa</td>\n",
       "      <td>5.0</td>\n",
       "      <td>best thing place ambiance second best thing yu...</td>\n",
       "      <td>775</td>\n",
       "      <td>Buffet</td>\n",
       "      <td>Banashankari</td>\n",
       "      <td>0.9485</td>\n",
       "    </tr>\n",
       "  </tbody>\n",
       "</table>\n",
       "</div>"
      ],
      "text/plain": [
       "    name  rating                                             review  votes  \\\n",
       "0  Jalsa     4.0  beautiful place dine inthe interior take back ...    775   \n",
       "1  Jalsa     4.0  dinner family weekday restaurant completely em...    775   \n",
       "2  Jalsa     2.0  restaurant near banashankari along office frie...    775   \n",
       "3  Jalsa     4.0  went weekend buffet took carte firstly ambienc...    775   \n",
       "4  Jalsa     5.0  best thing place ambiance second best thing yu...    775   \n",
       "\n",
       "  restaurant_type      location  Sentiment Scores  \n",
       "0          Buffet  Banashankari            0.7351  \n",
       "1          Buffet  Banashankari            0.9701  \n",
       "2          Buffet  Banashankari            0.5423  \n",
       "3          Buffet  Banashankari            0.9686  \n",
       "4          Buffet  Banashankari            0.9485  "
      ]
     },
     "execution_count": 31,
     "metadata": {},
     "output_type": "execute_result"
    }
   ],
   "source": [
    "rating.head()"
   ]
  },
  {
   "cell_type": "code",
   "execution_count": 32,
   "metadata": {},
   "outputs": [
    {
     "data": {
      "text/plain": [
       "array([ 0.7351,  0.9701,  0.5423, ..., -0.4843,  0.6027,  0.3639])"
      ]
     },
     "execution_count": 32,
     "metadata": {},
     "output_type": "execute_result"
    }
   ],
   "source": [
    "rating['Sentiment Scores'].unique()"
   ]
  },
  {
   "cell_type": "code",
   "execution_count": 33,
   "metadata": {},
   "outputs": [],
   "source": [
    "rating['Sentiment'] = rating['Sentiment Scores'].apply(lambda s : 'Positive' if s > 0 else ('Neutral' if s == 0 else 'Negative'))"
   ]
  },
  {
   "cell_type": "code",
   "execution_count": 34,
   "metadata": {},
   "outputs": [
    {
     "data": {
      "text/plain": [
       "array(['Positive', 'Negative', 'Neutral'], dtype=object)"
      ]
     },
     "execution_count": 34,
     "metadata": {},
     "output_type": "execute_result"
    }
   ],
   "source": [
    "rating['Sentiment'].unique()"
   ]
  },
  {
   "cell_type": "code",
   "execution_count": 48,
   "metadata": {},
   "outputs": [
    {
     "data": {
      "text/plain": [
       "Positive    942936\n",
       "Negative     88605\n",
       "Neutral      39143\n",
       "Name: Sentiment, dtype: int64"
      ]
     },
     "execution_count": 48,
     "metadata": {},
     "output_type": "execute_result"
    }
   ],
   "source": [
    "rating['Sentiment'].value_counts()"
   ]
  },
  {
   "cell_type": "code",
   "execution_count": 35,
   "metadata": {},
   "outputs": [
    {
     "data": {
      "text/plain": [
       "<matplotlib.axes._subplots.AxesSubplot at 0x183da025648>"
      ]
     },
     "execution_count": 35,
     "metadata": {},
     "output_type": "execute_result"
    },
    {
     "data": {
      "image/png": "[encoded data removed]",
      "text/plain": [
       "<Figure size 432x288 with 1 Axes>"
      ]
     },
     "metadata": {},
     "output_type": "display_data"
    }
   ],
   "source": [
    "rating.Sentiment.value_counts().plot(kind='pie', autopct='%1.0f%%', colors=[\"red\", \"yellow\", \"green\"])"
   ]
  },
  {
   "cell_type": "code",
   "execution_count": 64,
   "metadata": {
    "scrolled": true
   },
   "outputs": [
    {
     "ename": "AttributeError",
     "evalue": "'Figure' object has no attribute 'set_title'",
     "output_type": "error",
     "traceback": [
      "\u001b[1;31m---------------------------------------------------------------------------\u001b[0m",
      "\u001b[1;31mAttributeError\u001b[0m                            Traceback (most recent call last)",
      "\u001b[1;32m<ipython-input-64-cfe0ca3bcc54>\u001b[0m in \u001b[0;36m<module>\u001b[1;34m\u001b[0m\n\u001b[0;32m      2\u001b[0m \u001b[0mrating_set\u001b[0m\u001b[1;33m.\u001b[0m\u001b[0mplot\u001b[0m\u001b[1;33m(\u001b[0m\u001b[0mkind\u001b[0m\u001b[1;33m=\u001b[0m\u001b[1;34m'bar'\u001b[0m\u001b[1;33m)\u001b[0m\u001b[1;33m\u001b[0m\u001b[1;33m\u001b[0m\u001b[0m\n\u001b[0;32m      3\u001b[0m \u001b[0mfig1\u001b[0m \u001b[1;33m=\u001b[0m \u001b[0mplt\u001b[0m\u001b[1;33m.\u001b[0m\u001b[0mfigure\u001b[0m\u001b[1;33m(\u001b[0m\u001b[1;33m)\u001b[0m\u001b[1;33m\u001b[0m\u001b[1;33m\u001b[0m\u001b[0m\n\u001b[1;32m----> 4\u001b[1;33m \u001b[0mfig1\u001b[0m\u001b[1;33m.\u001b[0m\u001b[0mset_title\u001b[0m\u001b[1;33m(\u001b[0m\u001b[1;34m'foo'\u001b[0m\u001b[1;33m)\u001b[0m\u001b[1;33m\u001b[0m\u001b[1;33m\u001b[0m\u001b[0m\n\u001b[0m",
      "\u001b[1;31mAttributeError\u001b[0m: 'Figure' object has no attribute 'set_title'"
     ]
    },
    {
     "data": {
      "image/png": "[encoded data removed]",
      "text/plain": [
       "<Figure size 432x288 with 1 Axes>"
      ]
     },
     "metadata": {
      "needs_background": "light"
     },
     "output_type": "display_data"
    },
    {
     "data": {
      "text/plain": [
       "<Figure size 432x288 with 0 Axes>"
      ]
     },
     "metadata": {},
     "output_type": "display_data"
    }
   ],
   "source": [
    "rating_set = rating.groupby(['restaurant_type', 'Sentiment']).Sentiment.count().unstack()\n",
    "rating_set.plot(kind='bar')\n",
    "fig1 = plt.figure()\n",
    "fig1.set_title('foo')"
   ]
  },
  {
   "cell_type": "code",
   "execution_count": 59,
   "metadata": {},
   "outputs": [
    {
     "ename": "TypeError",
     "evalue": "'module' object is not callable",
     "output_type": "error",
     "traceback": [
      "\u001b[1;31m---------------------------------------------------------------------------\u001b[0m",
      "\u001b[1;31mTypeError\u001b[0m                                 Traceback (most recent call last)",
      "\u001b[1;32m<ipython-input-59-b32e4932f1cf>\u001b[0m in \u001b[0;36m<module>\u001b[1;34m\u001b[0m\n\u001b[0;32m      1\u001b[0m \u001b[0mrating\u001b[0m\u001b[1;33m.\u001b[0m\u001b[0mgroupby\u001b[0m\u001b[1;33m(\u001b[0m\u001b[1;33m[\u001b[0m\u001b[1;34m'restaurant_type'\u001b[0m\u001b[1;33m,\u001b[0m \u001b[1;34m'Sentiment'\u001b[0m\u001b[1;33m]\u001b[0m\u001b[1;33m)\u001b[0m\u001b[1;33m.\u001b[0m\u001b[0mSentiment\u001b[0m\u001b[1;33m.\u001b[0m\u001b[0mcount\u001b[0m\u001b[1;33m(\u001b[0m\u001b[1;33m)\u001b[0m\u001b[1;33m.\u001b[0m\u001b[0munstack\u001b[0m\u001b[1;33m(\u001b[0m\u001b[1;33m)\u001b[0m\u001b[1;33m\u001b[0m\u001b[1;33m\u001b[0m\u001b[0m\n\u001b[1;32m----> 2\u001b[1;33m \u001b[0mplt\u001b[0m\u001b[1;33m(\u001b[0m\u001b[0mkind\u001b[0m\u001b[1;33m=\u001b[0m\u001b[1;34m'bar'\u001b[0m\u001b[1;33m)\u001b[0m\u001b[1;33m\u001b[0m\u001b[1;33m\u001b[0m\u001b[0m\n\u001b[0m",
      "\u001b[1;31mTypeError\u001b[0m: 'module' object is not callable"
     ]
    }
   ],
   "source": [
    "rating.groupby(['restaurant_type', 'Sentiment']).Sentiment.count().unstack()\n",
    "plt(kind='bar')"
   ]
  },
  {
   "cell_type": "markdown",
   "metadata": {},
   "source": [
    "## CON "
   ]
  },
  {
   "cell_type": "code",
   "execution_count": 38,
   "metadata": {
    "scrolled": true
   },
   "outputs": [
    {
     "name": "stdout",
     "output_type": "stream",
     "text": [
      "['beautiful', 'place', 'dine', 'inthe', 'interior', 'take', 'back', 'mughal', 'lighting', 'perfectwe', 'went', 'occasion', 'christmas', 'limited', 'item', 'available', 'taste', 'service', 'compromised', 'allthe', 'complaint', 'bread', 'could', 'betterwould', 'surely', 'like', 'come']\n"
     ]
    }
   ],
   "source": [
    "# Converting all the text to lowercase\n",
    "rating[\"reviews_list\"] = rating[\"review\"].apply(lambda x: x.lower())\n",
    "\n",
    "# Creating a regular expression tokenizer that matches only alphabets\n",
    "# This will return separate words (tokens) from the text\n",
    "tokenizer = regextoken(\"[a-zA-Z]+\") \n",
    "# Applying the tokenizer to each row of the reviews\n",
    "review_tokens = rating[\"reviews_list\"].apply(tokenizer.tokenize)\n",
    "# Examining the tokens created for the first row / restaurant\n",
    "print(review_tokens[0])"
   ]
  },
  {
   "cell_type": "code",
   "execution_count": 39,
   "metadata": {},
   "outputs": [
    {
     "data": {
      "text/plain": [
       "0    [beautiful, place, dine, inthe, interior, take...\n",
       "1    [dinner, family, weekday, restaurant, complete...\n",
       "2    [restaurant, near, banashankari, along, office...\n",
       "3    [went, weekend, buffet, took, carte, firstly, ...\n",
       "4    [best, thing, place, ambiance, second, best, t...\n",
       "Name: reviews_list, dtype: object"
      ]
     },
     "execution_count": 39,
     "metadata": {},
     "output_type": "execute_result"
    }
   ],
   "source": [
    "review_tokens.head()"
   ]
  },
  {
   "cell_type": "code",
   "execution_count": 40,
   "metadata": {},
   "outputs": [
    {
     "data": {
      "text/plain": [
       "[('place', 931897),\n",
       " ('food', 855781),\n",
       " ('good', 829888),\n",
       " ('service', 369343),\n",
       " ('chicken', 351257)]"
      ]
     },
     "execution_count": 40,
     "metadata": {},
     "output_type": "execute_result"
    }
   ],
   "source": [
    "# # Adding custom words to stopwords \n",
    "# stop_words.extend([\"rated\", \"n\", \"nan\", \"x\"])\n",
    "# Removing stopwords from the tokens\n",
    "review_tokens = review_tokens.apply(lambda x: [token for token in x if token not in stop_words])\n",
    "# Concatenating all the reviews \n",
    "all_reviews = review_tokens.astype(str).str.cat()\n",
    "cleaned_reviews = tokenizer.tokenize(all_reviews)\n",
    "\n",
    "# Getting the frequency distribution of individual words in the reviews\n",
    "fd = FreqDist()\n",
    "for word in cleaned_reviews:\n",
    "    fd[word] += 1\n",
    "    \n",
    "# Examining the top 5 most frequent words"
   ]
  },
  {
   "cell_type": "code",
   "execution_count": 49,
   "metadata": {},
   "outputs": [
    {
     "data": {
      "text/plain": [
       "[('place', 931897),\n",
       " ('food', 855781),\n",
       " ('good', 829888),\n",
       " ('service', 369343),\n",
       " ('chicken', 351257),\n",
       " ('ambience', 302645),\n",
       " ('ordered', 272227),\n",
       " ('great', 257988),\n",
       " ('taste', 243137),\n",
       " ('time', 236568),\n",
       " ('really', 228768),\n",
       " ('also', 207343),\n",
       " ('nice', 193504),\n",
       " ('staff', 178353),\n",
       " ('like', 177284),\n",
       " ('visit', 177196),\n",
       " ('best', 167411),\n",
       " ('well', 159215),\n",
       " ('pizza', 157209),\n",
       " ('restaurant', 149015)]"
      ]
     },
     "execution_count": 49,
     "metadata": {},
     "output_type": "execute_result"
    }
   ],
   "source": [
    "fd.most_common(20)"
   ]
  },
  {
   "cell_type": "code",
   "execution_count": 54,
   "metadata": {
    "scrolled": false
   },
   "outputs": [
    {
     "data": {
      "image/png": "[encoded data removed]",
      "text/plain": [
       "<Figure size 720x360 with 1 Axes>"
      ]
     },
     "metadata": {
      "needs_background": "light"
     },
     "output_type": "display_data"
    }
   ],
   "source": [
    "# Plotting the top 50 most frequent words\n",
    "plt.figure(figsize = (10, 5))\n",
    "fd.plot(50)\n",
    "plt.title='Frequency plot'\n",
    "# plt.show()\n",
    "# ab.plot(kind='bar')"
   ]
  },
  {
   "cell_type": "markdown",
   "metadata": {},
   "source": [
    "https://stackabuse.com/python-for-nlp-sentiment-analysis-with-scikit-learn/"
   ]
  },
  {
   "cell_type": "code",
   "execution_count": 67,
   "metadata": {
    "scrolled": true
   },
   "outputs": [
    {
     "data": {
      "text/plain": [
       "0          [beautiful, place, dine, inthe, interior, take...\n",
       "1          [dinner, family, weekday, restaurant, complete...\n",
       "2          [restaurant, near, banashankari, along, office...\n",
       "3          [went, weekend, buffet, took, carte, firstly, ...\n",
       "4          [best, thing, place, ambiance, second, best, t...\n",
       "                                 ...                        \n",
       "1070679    [service, ordered, stella, artois, gave, expir...\n",
       "1070680    [nice, inside, sheraton, host, friendly, helpf...\n",
       "1070681    [review, based, food, drink, service, food, fo...\n",
       "1070682    [visited, chime, sheraton, hotel, nice, experi...\n",
       "1070683    [restaurant, situated, inside, grand, sheraton...\n",
       "Name: reviews_list, Length: 1070684, dtype: object"
      ]
     },
     "execution_count": 67,
     "metadata": {},
     "output_type": "execute_result"
    }
   ],
   "source": [
    "review_tokens"
   ]
  },
  {
   "cell_type": "code",
   "execution_count": 68,
   "metadata": {},
   "outputs": [
    {
     "data": {
      "text/html": [
       "<div>\n",
       "<style scoped>\n",
       "    .dataframe tbody tr th:only-of-type {\n",
       "        vertical-align: middle;\n",
       "    }\n",
       "\n",
       "    .dataframe tbody tr th {\n",
       "        vertical-align: top;\n",
       "    }\n",
       "\n",
       "    .dataframe thead th {\n",
       "        text-align: right;\n",
       "    }\n",
       "</style>\n",
       "<table border=\"1\" class=\"dataframe\">\n",
       "  <thead>\n",
       "    <tr style=\"text-align: right;\">\n",
       "      <th></th>\n",
       "      <th>name</th>\n",
       "      <th>rating</th>\n",
       "      <th>review</th>\n",
       "      <th>votes</th>\n",
       "      <th>restaurant_type</th>\n",
       "      <th>location</th>\n",
       "      <th>Sentiment Scores</th>\n",
       "      <th>Sentiment</th>\n",
       "      <th>reviews_list</th>\n",
       "    </tr>\n",
       "  </thead>\n",
       "  <tbody>\n",
       "    <tr>\n",
       "      <th>0</th>\n",
       "      <td>Jalsa</td>\n",
       "      <td>4.0</td>\n",
       "      <td>beautiful place dine inthe interior take back ...</td>\n",
       "      <td>775</td>\n",
       "      <td>Buffet</td>\n",
       "      <td>Banashankari</td>\n",
       "      <td>0.7351</td>\n",
       "      <td>Positive</td>\n",
       "      <td>beautiful place dine inthe interior take back ...</td>\n",
       "    </tr>\n",
       "    <tr>\n",
       "      <th>1</th>\n",
       "      <td>Jalsa</td>\n",
       "      <td>4.0</td>\n",
       "      <td>dinner family weekday restaurant completely em...</td>\n",
       "      <td>775</td>\n",
       "      <td>Buffet</td>\n",
       "      <td>Banashankari</td>\n",
       "      <td>0.9701</td>\n",
       "      <td>Positive</td>\n",
       "      <td>dinner family weekday restaurant completely em...</td>\n",
       "    </tr>\n",
       "    <tr>\n",
       "      <th>2</th>\n",
       "      <td>Jalsa</td>\n",
       "      <td>2.0</td>\n",
       "      <td>restaurant near banashankari along office frie...</td>\n",
       "      <td>775</td>\n",
       "      <td>Buffet</td>\n",
       "      <td>Banashankari</td>\n",
       "      <td>0.5423</td>\n",
       "      <td>Positive</td>\n",
       "      <td>restaurant near banashankari along office frie...</td>\n",
       "    </tr>\n",
       "    <tr>\n",
       "      <th>3</th>\n",
       "      <td>Jalsa</td>\n",
       "      <td>4.0</td>\n",
       "      <td>went weekend buffet took carte firstly ambienc...</td>\n",
       "      <td>775</td>\n",
       "      <td>Buffet</td>\n",
       "      <td>Banashankari</td>\n",
       "      <td>0.9686</td>\n",
       "      <td>Positive</td>\n",
       "      <td>went weekend buffet took carte firstly ambienc...</td>\n",
       "    </tr>\n",
       "    <tr>\n",
       "      <th>4</th>\n",
       "      <td>Jalsa</td>\n",
       "      <td>5.0</td>\n",
       "      <td>best thing place ambiance second best thing yu...</td>\n",
       "      <td>775</td>\n",
       "      <td>Buffet</td>\n",
       "      <td>Banashankari</td>\n",
       "      <td>0.9485</td>\n",
       "      <td>Positive</td>\n",
       "      <td>best thing place ambiance second best thing yu...</td>\n",
       "    </tr>\n",
       "    <tr>\n",
       "      <th>...</th>\n",
       "      <td>...</td>\n",
       "      <td>...</td>\n",
       "      <td>...</td>\n",
       "      <td>...</td>\n",
       "      <td>...</td>\n",
       "      <td>...</td>\n",
       "      <td>...</td>\n",
       "      <td>...</td>\n",
       "      <td>...</td>\n",
       "    </tr>\n",
       "    <tr>\n",
       "      <th>1070679</th>\n",
       "      <td>Chime - Sheraton Grand Bengaluru Whitefield Ho...</td>\n",
       "      <td>1.0</td>\n",
       "      <td>service ordered stella artois gave expired bot...</td>\n",
       "      <td>236</td>\n",
       "      <td>Pubs and bars</td>\n",
       "      <td>ITPL Main Road, Whitefield</td>\n",
       "      <td>0.8720</td>\n",
       "      <td>Positive</td>\n",
       "      <td>service ordered stella artois gave expired bot...</td>\n",
       "    </tr>\n",
       "    <tr>\n",
       "      <th>1070680</th>\n",
       "      <td>Chime - Sheraton Grand Bengaluru Whitefield Ho...</td>\n",
       "      <td>5.0</td>\n",
       "      <td>nice inside sheraton host friendly helpful ser...</td>\n",
       "      <td>236</td>\n",
       "      <td>Pubs and bars</td>\n",
       "      <td>ITPL Main Road, Whitefield</td>\n",
       "      <td>0.9451</td>\n",
       "      <td>Positive</td>\n",
       "      <td>nice inside sheraton host friendly helpful ser...</td>\n",
       "    </tr>\n",
       "    <tr>\n",
       "      <th>1070681</th>\n",
       "      <td>Chime - Sheraton Grand Bengaluru Whitefield Ho...</td>\n",
       "      <td>5.0</td>\n",
       "      <td>review based food drink service food food good...</td>\n",
       "      <td>236</td>\n",
       "      <td>Pubs and bars</td>\n",
       "      <td>ITPL Main Road, Whitefield</td>\n",
       "      <td>0.9921</td>\n",
       "      <td>Positive</td>\n",
       "      <td>review based food drink service food food good...</td>\n",
       "    </tr>\n",
       "    <tr>\n",
       "      <th>1070682</th>\n",
       "      <td>Chime - Sheraton Grand Bengaluru Whitefield Ho...</td>\n",
       "      <td>5.0</td>\n",
       "      <td>visited chime sheraton hotel nice experience m...</td>\n",
       "      <td>236</td>\n",
       "      <td>Pubs and bars</td>\n",
       "      <td>ITPL Main Road, Whitefield</td>\n",
       "      <td>0.9432</td>\n",
       "      <td>Positive</td>\n",
       "      <td>visited chime sheraton hotel nice experience m...</td>\n",
       "    </tr>\n",
       "    <tr>\n",
       "      <th>1070683</th>\n",
       "      <td>Chime - Sheraton Grand Bengaluru Whitefield Ho...</td>\n",
       "      <td>4.0</td>\n",
       "      <td>restaurant situated inside grand sheraton hote...</td>\n",
       "      <td>236</td>\n",
       "      <td>Pubs and bars</td>\n",
       "      <td>ITPL Main Road, Whitefield</td>\n",
       "      <td>0.7778</td>\n",
       "      <td>Positive</td>\n",
       "      <td>restaurant situated inside grand sheraton hote...</td>\n",
       "    </tr>\n",
       "  </tbody>\n",
       "</table>\n",
       "<p>1070684 rows × 9 columns</p>\n",
       "</div>"
      ],
      "text/plain": [
       "                                                      name  rating  \\\n",
       "0                                                    Jalsa     4.0   \n",
       "1                                                    Jalsa     4.0   \n",
       "2                                                    Jalsa     2.0   \n",
       "3                                                    Jalsa     4.0   \n",
       "4                                                    Jalsa     5.0   \n",
       "...                                                    ...     ...   \n",
       "1070679  Chime - Sheraton Grand Bengaluru Whitefield Ho...     1.0   \n",
       "1070680  Chime - Sheraton Grand Bengaluru Whitefield Ho...     5.0   \n",
       "1070681  Chime - Sheraton Grand Bengaluru Whitefield Ho...     5.0   \n",
       "1070682  Chime - Sheraton Grand Bengaluru Whitefield Ho...     5.0   \n",
       "1070683  Chime - Sheraton Grand Bengaluru Whitefield Ho...     4.0   \n",
       "\n",
       "                                                    review  votes  \\\n",
       "0        beautiful place dine inthe interior take back ...    775   \n",
       "1        dinner family weekday restaurant completely em...    775   \n",
       "2        restaurant near banashankari along office frie...    775   \n",
       "3        went weekend buffet took carte firstly ambienc...    775   \n",
       "4        best thing place ambiance second best thing yu...    775   \n",
       "...                                                    ...    ...   \n",
       "1070679  service ordered stella artois gave expired bot...    236   \n",
       "1070680  nice inside sheraton host friendly helpful ser...    236   \n",
       "1070681  review based food drink service food food good...    236   \n",
       "1070682  visited chime sheraton hotel nice experience m...    236   \n",
       "1070683  restaurant situated inside grand sheraton hote...    236   \n",
       "\n",
       "        restaurant_type                    location  Sentiment Scores  \\\n",
       "0                Buffet                Banashankari            0.7351   \n",
       "1                Buffet                Banashankari            0.9701   \n",
       "2                Buffet                Banashankari            0.5423   \n",
       "3                Buffet                Banashankari            0.9686   \n",
       "4                Buffet                Banashankari            0.9485   \n",
       "...                 ...                         ...               ...   \n",
       "1070679   Pubs and bars  ITPL Main Road, Whitefield            0.8720   \n",
       "1070680   Pubs and bars  ITPL Main Road, Whitefield            0.9451   \n",
       "1070681   Pubs and bars  ITPL Main Road, Whitefield            0.9921   \n",
       "1070682   Pubs and bars  ITPL Main Road, Whitefield            0.9432   \n",
       "1070683   Pubs and bars  ITPL Main Road, Whitefield            0.7778   \n",
       "\n",
       "        Sentiment                                       reviews_list  \n",
       "0        Positive  beautiful place dine inthe interior take back ...  \n",
       "1        Positive  dinner family weekday restaurant completely em...  \n",
       "2        Positive  restaurant near banashankari along office frie...  \n",
       "3        Positive  went weekend buffet took carte firstly ambienc...  \n",
       "4        Positive  best thing place ambiance second best thing yu...  \n",
       "...           ...                                                ...  \n",
       "1070679  Positive  service ordered stella artois gave expired bot...  \n",
       "1070680  Positive  nice inside sheraton host friendly helpful ser...  \n",
       "1070681  Positive  review based food drink service food food good...  \n",
       "1070682  Positive  visited chime sheraton hotel nice experience m...  \n",
       "1070683  Positive  restaurant situated inside grand sheraton hote...  \n",
       "\n",
       "[1070684 rows x 9 columns]"
      ]
     },
     "execution_count": 68,
     "metadata": {},
     "output_type": "execute_result"
    }
   ],
   "source": [
    "rating"
   ]
  },
  {
   "cell_type": "code",
   "execution_count": 69,
   "metadata": {},
   "outputs": [],
   "source": [
    "training_set = rating[:50000]\n",
    "testing_set = rating[50000:70000]"
   ]
  },
  {
   "cell_type": "code",
   "execution_count": 70,
   "metadata": {},
   "outputs": [
    {
     "ename": "ValueError",
     "evalue": "too many values to unpack (expected 2)",
     "output_type": "error",
     "traceback": [
      "\u001b[1;31m---------------------------------------------------------------------------\u001b[0m",
      "\u001b[1;31mValueError\u001b[0m                                Traceback (most recent call last)",
      "\u001b[1;32m<ipython-input-70-bcfdf1d66614>\u001b[0m in \u001b[0;36m<module>\u001b[1;34m\u001b[0m\n\u001b[1;32m----> 1\u001b[1;33m \u001b[0mclassifier\u001b[0m \u001b[1;33m=\u001b[0m \u001b[0mnltk\u001b[0m\u001b[1;33m.\u001b[0m\u001b[0mNaiveBayesClassifier\u001b[0m\u001b[1;33m.\u001b[0m\u001b[0mtrain\u001b[0m\u001b[1;33m(\u001b[0m\u001b[0mtraining_set\u001b[0m\u001b[1;33m)\u001b[0m\u001b[1;33m\u001b[0m\u001b[1;33m\u001b[0m\u001b[0m\n\u001b[0m\u001b[0;32m      2\u001b[0m \u001b[1;33m\u001b[0m\u001b[0m\n\u001b[0;32m      3\u001b[0m \u001b[1;33m\u001b[0m\u001b[0m\n\u001b[0;32m      4\u001b[0m \u001b[1;33m\u001b[0m\u001b[0m\n\u001b[0;32m      5\u001b[0m \u001b[0mprint\u001b[0m\u001b[1;33m(\u001b[0m\u001b[1;34m\"Classifier accuracy percent:\"\u001b[0m\u001b[1;33m,\u001b[0m\u001b[1;33m(\u001b[0m\u001b[0mnltk\u001b[0m\u001b[1;33m.\u001b[0m\u001b[0mclassify\u001b[0m\u001b[1;33m.\u001b[0m\u001b[0maccuracy\u001b[0m\u001b[1;33m(\u001b[0m\u001b[0mclassifier\u001b[0m\u001b[1;33m,\u001b[0m \u001b[0mtesting_set\u001b[0m\u001b[1;33m)\u001b[0m\u001b[1;33m)\u001b[0m\u001b[1;33m*\u001b[0m\u001b[1;36m100\u001b[0m\u001b[1;33m)\u001b[0m\u001b[1;33m\u001b[0m\u001b[1;33m\u001b[0m\u001b[0m\n",
      "\u001b[1;32m~\\Anaconda3\\envs\\Bussiness intelligence\\lib\\site-packages\\nltk\\classify\\naivebayes.py\u001b[0m in \u001b[0;36mtrain\u001b[1;34m(cls, labeled_featuresets, estimator)\u001b[0m\n\u001b[0;32m    204\u001b[0m         \u001b[1;31m# Count up how many times each feature value occurred, given\u001b[0m\u001b[1;33m\u001b[0m\u001b[1;33m\u001b[0m\u001b[1;33m\u001b[0m\u001b[0m\n\u001b[0;32m    205\u001b[0m         \u001b[1;31m# the label and featurename.\u001b[0m\u001b[1;33m\u001b[0m\u001b[1;33m\u001b[0m\u001b[1;33m\u001b[0m\u001b[0m\n\u001b[1;32m--> 206\u001b[1;33m         \u001b[1;32mfor\u001b[0m \u001b[0mfeatureset\u001b[0m\u001b[1;33m,\u001b[0m \u001b[0mlabel\u001b[0m \u001b[1;32min\u001b[0m \u001b[0mlabeled_featuresets\u001b[0m\u001b[1;33m:\u001b[0m\u001b[1;33m\u001b[0m\u001b[1;33m\u001b[0m\u001b[0m\n\u001b[0m\u001b[0;32m    207\u001b[0m             \u001b[0mlabel_freqdist\u001b[0m\u001b[1;33m[\u001b[0m\u001b[0mlabel\u001b[0m\u001b[1;33m]\u001b[0m \u001b[1;33m+=\u001b[0m \u001b[1;36m1\u001b[0m\u001b[1;33m\u001b[0m\u001b[1;33m\u001b[0m\u001b[0m\n\u001b[0;32m    208\u001b[0m             \u001b[1;32mfor\u001b[0m \u001b[0mfname\u001b[0m\u001b[1;33m,\u001b[0m \u001b[0mfval\u001b[0m \u001b[1;32min\u001b[0m \u001b[0mfeatureset\u001b[0m\u001b[1;33m.\u001b[0m\u001b[0mitems\u001b[0m\u001b[1;33m(\u001b[0m\u001b[1;33m)\u001b[0m\u001b[1;33m:\u001b[0m\u001b[1;33m\u001b[0m\u001b[1;33m\u001b[0m\u001b[0m\n",
      "\u001b[1;31mValueError\u001b[0m: too many values to unpack (expected 2)"
     ]
    }
   ],
   "source": [
    "classifier = nltk.NaiveBayesClassifier.train(training_set)\n",
    "\n",
    "\n",
    "\n",
    "print(\"Classifier accuracy percent:\",(nltk.classify.accuracy(classifier, testing_set))*100)\n",
    "\n",
    "\n",
    "\n",
    "classifier.show_most_informative_features(15)"
   ]
  }
 ],
 "metadata": {
  "kernelspec": {
   "display_name": "Python 3",
   "language": "python",
   "name": "python3"
  },
  "language_info": {
   "codemirror_mode": {
    "name": "ipython",
    "version": 3
   },
   "file_extension": ".py",
   "mimetype": "text/x-python",
   "name": "python",
   "nbconvert_exporter": "python",
   "pygments_lexer": "ipython3",
   "version": "3.8.2"
  }
 },
 "nbformat": 4,
 "nbformat_minor": 4
}
